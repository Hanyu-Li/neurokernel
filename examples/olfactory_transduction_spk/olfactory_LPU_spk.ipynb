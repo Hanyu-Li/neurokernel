{
 "metadata": {
  "name": ""
 },
 "nbformat": 3,
 "nbformat_minor": 0,
 "worksheets": [
  {
   "cells": [
    {
     "cell_type": "code",
     "collapsed": false,
     "input": [
      "%pylab inline\n",
      "import h5py"
     ],
     "language": "python",
     "metadata": {},
     "outputs": [
      {
       "output_type": "stream",
       "stream": "stdout",
       "text": [
        "Populating the interactive namespace from numpy and matplotlib\n"
       ]
      },
      {
       "output_type": "stream",
       "stream": "stderr",
       "text": [
        "WARNING: pylab import has clobbered these variables: ['f']\n",
        "`%pylab --no-import-all` prevents importing * from pylab and numpy\n"
       ]
      }
     ],
     "prompt_number": 24
    },
    {
     "cell_type": "code",
     "collapsed": false,
     "input": [
      "%run Olfactory_receptor_demo.py -s 2500"
     ],
     "language": "python",
     "metadata": {},
     "outputs": []
    },
    {
     "cell_type": "code",
     "collapsed": false,
     "input": [
      "f = h5py.File('olfactory_output_spike.h5','r')\n",
      "data = f['array']\n",
      "spk = data.value\n",
      "\n",
      "f_in = h5py.File('ge_I_Olfactory_receptor_spk8.h5','r')\n",
      "data_in = f_in['array']\n",
      "Ostim = data_in.value\n"
     ],
     "language": "python",
     "metadata": {},
     "outputs": [],
     "prompt_number": 25
    },
    {
     "cell_type": "code",
     "collapsed": false,
     "input": [
      "plot(spk)\n",
      "ylabel(\"spk\")"
     ],
     "language": "python",
     "metadata": {},
     "outputs": [
      {
       "metadata": {},
       "output_type": "pyout",
       "prompt_number": 28,
       "text": [
        "<matplotlib.text.Text at 0x7fef3d543390>"
       ]
      },
      {
       "metadata": {},
       "output_type": "display_data",
       "png": "[encoded data removed]",
       "text": [
        "<matplotlib.figure.Figure at 0x7fef3d569490>"
       ]
      }
     ],
     "prompt_number": 28
    },
    {
     "cell_type": "code",
     "collapsed": false,
     "input": [
      "#PSTH Analysis\n",
      "bin_size = 2e3\n",
      "step_size = bin_size/4\n",
      "psth = np.zeros((spk.shape[0]/step_size, spk.shape[1]))\n",
      "for i in range(psth.shape[0]):\n",
      "    start = i*step_size\n",
      "    end = start + bin_size\n",
      "    \n",
      "    for j in range(psth.shape[1]):\n",
      "        psth[i,j] = find(spk[start:end,j]).size *1e4/bin_size\n",
      "        \n"
     ],
     "language": "python",
     "metadata": {},
     "outputs": [],
     "prompt_number": 29
    },
    {
     "cell_type": "code",
     "collapsed": false,
     "input": [
      "ind = 0\n",
      "figure\n",
      "subplot(3,1,1)\n",
      "plot(Ostim[:,ind])\n",
      "ylabel(\"Ostim\")\n",
      "subplot(3,1,2)\n",
      "plot(spk[:,ind])\n",
      "ylabel(\"spk\")\n",
      "subplot(3,1,3)\n",
      "plot(psth[:,ind])\n",
      "ylabel(\"PSTH,Hz\")\n",
      "ylim([70,110])"
     ],
     "language": "python",
     "metadata": {},
     "outputs": [
      {
       "metadata": {},
       "output_type": "pyout",
       "prompt_number": 32,
       "text": [
        "(70, 110)"
       ]
      },
      {
       "metadata": {},
       "output_type": "display_data",
       "png": "[encoded data removed]",
       "text": [
        "<matplotlib.figure.Figure at 0x7fef3d078490>"
       ]
      }
     ],
     "prompt_number": 32
    },
    {
     "cell_type": "code",
     "collapsed": false,
     "input": [
      "f = open('observe')\n",
      "data = f.read().splitlines()\n",
      "d=np.asarray(data)\n",
      "d?\n",
      "print d"
     ],
     "language": "python",
     "metadata": {},
     "outputs": [
      {
       "output_type": "stream",
       "stream": "stdout",
       "text": [
        "['-5.098794' '-3.627156' '-2.199098' ..., '-nan' '-nan' '-nan']\n"
       ]
      }
     ],
     "prompt_number": 20
    },
    {
     "cell_type": "code",
     "collapsed": false,
     "input": [
      "\n",
      "a = '%s/%d' % ('str', 10)\n",
      "print a"
     ],
     "language": "python",
     "metadata": {},
     "outputs": [
      {
       "output_type": "stream",
       "stream": "stdout",
       "text": [
        "str/10\n"
       ]
      }
     ],
     "prompt_number": 14
    },
    {
     "cell_type": "code",
     "collapsed": false,
     "input": [
      "b = list([0,1])\n",
      "print b[0]"
     ],
     "language": "python",
     "metadata": {},
     "outputs": [
      {
       "output_type": "stream",
       "stream": "stdout",
       "text": [
        "0\n"
       ]
      }
     ],
     "prompt_number": 17
    }
   ],
   "metadata": {}
  }
 ]
}