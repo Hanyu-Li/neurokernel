{
 "metadata": {
  "name": ""
 },
 "nbformat": 3,
 "nbformat_minor": 0,
 "worksheets": [
  {
   "cells": [
    {
     "cell_type": "code",
     "collapsed": false,
     "input": [
      "%pylab inline\n",
      "import h5py"
     ],
     "language": "python",
     "metadata": {},
     "outputs": [
      {
       "output_type": "stream",
       "stream": "stdout",
       "text": [
        "Populating the interactive namespace from numpy and matplotlib\n"
       ]
      },
      {
       "output_type": "stream",
       "stream": "stderr",
       "text": [
        "WARNING: pylab import has clobbered these variables: ['f']\n",
        "`%pylab --no-import-all` prevents importing * from pylab and numpy\n"
       ]
      }
     ],
     "prompt_number": 20
    },
    {
     "cell_type": "code",
     "collapsed": false,
     "input": [
      "%run Olfactory_receptor_demo.py -s 2500"
     ],
     "language": "python",
     "metadata": {},
     "outputs": []
    },
    {
     "cell_type": "code",
     "collapsed": false,
     "input": [
      "f = h5py.File('olfactory_output_gpot.h5','r')\n",
      "data = f['array']\n",
      "V = data.value\n"
     ],
     "language": "python",
     "metadata": {},
     "outputs": [],
     "prompt_number": 21
    },
    {
     "cell_type": "code",
     "collapsed": false,
     "input": [
      "plot(V[:,0])"
     ],
     "language": "python",
     "metadata": {},
     "outputs": [
      {
       "metadata": {},
       "output_type": "pyout",
       "prompt_number": 23,
       "text": [
        "[<matplotlib.lines.Line2D at 0x7fe3a24bc310>]"
       ]
      },
      {
       "metadata": {},
       "output_type": "display_data",
       "png": "[encoded data removed]",
       "text": [
        "<matplotlib.figure.Figure at 0x7fe3a392ca10>"
       ]
      }
     ],
     "prompt_number": 23
    },
    {
     "cell_type": "code",
     "collapsed": false,
     "input": [
      "#PSTH Analysis\n"
     ],
     "language": "python",
     "metadata": {},
     "outputs": []
    },
    {
     "cell_type": "code",
     "collapsed": false,
     "input": [
      "#!/usr/bin/env python\n",
      "\n",
      "\"\"\"\n",
      "Generic LPU demo\n",
      "\n",
      "Notes\n",
      "-----\n",
      "Generate input file and LPU configuration by running\n",
      "\n",
      "cd data\n",
      "python gen_generic_lpu.py\n",
      "\"\"\"\n",
      "\n",
      "import argparse\n",
      "import itertools\n",
      "\n",
      "import networkx as nx\n",
      "\n",
      "import neurokernel.core as core\n",
      "import neurokernel.base as base\n",
      "from neurokernel.tools.comm import get_random_port\n",
      "\n",
      "from neurokernel.LPU.LPU import LPU\n",
      "\n",
      "dt = 1e-4\n",
      "dur = 1.0\n",
      "steps = int(dur/dt)\n",
      "\n",
      "parser = argparse.ArgumentParser()\n",
      "parser.add_argument('--debug', default=True,\n",
      "                    dest='debug', action='store_true',\n",
      "                    help='Write connectivity structures and inter-LPU routed data in debug folder')\n",
      "parser.add_argument('-l', '--log', default='none', type=str,\n",
      "                    help='Log output to screen [file, screen, both, or none; default:none]')\n",
      "parser.add_argument('-s', '--steps', default=steps, type=int,\n",
      "                    help='Number of steps [default: %s]' % steps)\n",
      "parser.add_argument('-d', '--port_data', default=None, type=int,\n",
      "                    help='Data port [default: randomly selected]')\n",
      "parser.add_argument('-c', '--port_ctrl', default=None, type=int,\n",
      "                    help='Control port [default: randomly selected]')\n",
      "parser.add_argument('-g', '--gpu_dev', default=0, type=int,\n",
      "                    help='GPU device number [default: 0]')\n",
      "args = parser.parse_args()\n",
      "\n",
      "file_name = None\n",
      "screen = False\n",
      "if args.log.lower() in ['file', 'both']:\n",
      "    file_name = 'neurokernel.log'\n",
      "if args.log.lower() in ['screen', 'both']:\n",
      "    screen = True\n",
      "logger = base.setup_logger(file_name, screen)\n",
      "\n",
      "if args.port_data is None and args.port_ctrl is None:\n",
      "    port_data = get_random_port()\n",
      "    port_ctrl = get_random_port()\n",
      "else:\n",
      "    port_data = args.port_data\n",
      "    port_ctrl = args.port_ctrl\n",
      "\n",
      "man = core.Manager(port_data, port_ctrl)\n",
      "man.add_brok()\n",
      "\n",
      "(n_dict, s_dict) = LPU.lpu_parser('./data/olfactory_lpu.gexf.gz')\n",
      "ge = LPU(dt, n_dict, s_dict,\n",
      "         input_file='./data/olfactory_input.h5',\n",
      "         output_file='olfactory_output.h5', port_ctrl=port_ctrl,\n",
      "         port_data=port_data,\n",
      "         device=args.gpu_dev, id='ge',\n",
      "         debug=args.debug)\n",
      "man.add_mod(ge)\n",
      "\n",
      "man.start(steps=args.steps)\n",
      "man.stop()\n"
     ],
     "language": "python",
     "metadata": {},
     "outputs": [
      {
       "ename": "SystemExit",
       "evalue": "2",
       "output_type": "pyerr",
       "traceback": [
        "An exception has occurred, use %tb to see the full traceback.\n",
        "\u001b[0;31mSystemExit\u001b[0m\u001b[0;31m:\u001b[0m 2\n"
       ]
      },
      {
       "output_type": "stream",
       "stream": "stderr",
       "text": [
        "usage: -c [-h] [--debug] [-l LOG] [-s STEPS] [-d PORT_DATA] [-c PORT_CTRL]\n",
        "          [-g GPU_DEV]\n",
        "-c: error: unrecognized arguments: -f /home/hanyu/.ipython/profile_default/security/kernel-f4b627ee-4a65-484e-9700-9cabe4e00a24.json --IPKernelApp.parent_appname='ipython-notebook' --profile-dir /home/hanyu/.ipython/profile_default --parent=1\n",
        "To exit: use 'exit', 'quit', or Ctrl-D.\n"
       ]
      }
     ],
     "prompt_number": 3
    },
    {
     "cell_type": "code",
     "collapsed": false,
     "input": [
      "%tb"
     ],
     "language": "python",
     "metadata": {},
     "outputs": [
      {
       "ename": "SystemExit",
       "evalue": "2",
       "output_type": "pyerr",
       "traceback": [
        "\u001b[0;31m---------------------------------------------------------------------------\u001b[0m\n\u001b[0;31mSystemExit\u001b[0m                                Traceback (most recent call last)",
        "\u001b[0;32m<ipython-input-1-7d9945294766>\u001b[0m in \u001b[0;36m<module>\u001b[0;34m()\u001b[0m\n\u001b[1;32m     41\u001b[0m parser.add_argument('-g', '--gpu_dev', default=0, type=int,\n\u001b[1;32m     42\u001b[0m                     help='GPU device number [default: 0]')\n\u001b[0;32m---> 43\u001b[0;31m \u001b[0margs\u001b[0m \u001b[0;34m=\u001b[0m \u001b[0mparser\u001b[0m\u001b[0;34m.\u001b[0m\u001b[0mparse_args\u001b[0m\u001b[0;34m(\u001b[0m\u001b[0;34m)\u001b[0m\u001b[0;34m\u001b[0m\u001b[0m\n\u001b[0m\u001b[1;32m     44\u001b[0m \u001b[0;34m\u001b[0m\u001b[0m\n\u001b[1;32m     45\u001b[0m \u001b[0mfile_name\u001b[0m \u001b[0;34m=\u001b[0m \u001b[0mNone\u001b[0m\u001b[0;34m\u001b[0m\u001b[0m\n",
        "\u001b[0;32m/usr/lib/python2.7/argparse.pyc\u001b[0m in \u001b[0;36mparse_args\u001b[0;34m(self, args, namespace)\u001b[0m\n\u001b[1;32m   1691\u001b[0m         \u001b[0;32mif\u001b[0m \u001b[0margv\u001b[0m\u001b[0;34m:\u001b[0m\u001b[0;34m\u001b[0m\u001b[0m\n\u001b[1;32m   1692\u001b[0m             \u001b[0mmsg\u001b[0m \u001b[0;34m=\u001b[0m \u001b[0m_\u001b[0m\u001b[0;34m(\u001b[0m\u001b[0;34m'unrecognized arguments: %s'\u001b[0m\u001b[0;34m)\u001b[0m\u001b[0;34m\u001b[0m\u001b[0m\n\u001b[0;32m-> 1693\u001b[0;31m             \u001b[0mself\u001b[0m\u001b[0;34m.\u001b[0m\u001b[0merror\u001b[0m\u001b[0;34m(\u001b[0m\u001b[0mmsg\u001b[0m \u001b[0;34m%\u001b[0m \u001b[0;34m' '\u001b[0m\u001b[0;34m.\u001b[0m\u001b[0mjoin\u001b[0m\u001b[0;34m(\u001b[0m\u001b[0margv\u001b[0m\u001b[0;34m)\u001b[0m\u001b[0;34m)\u001b[0m\u001b[0;34m\u001b[0m\u001b[0m\n\u001b[0m\u001b[1;32m   1694\u001b[0m         \u001b[0;32mreturn\u001b[0m \u001b[0margs\u001b[0m\u001b[0;34m\u001b[0m\u001b[0m\n\u001b[1;32m   1695\u001b[0m \u001b[0;34m\u001b[0m\u001b[0m\n",
        "\u001b[0;32m/usr/lib/python2.7/argparse.pyc\u001b[0m in \u001b[0;36merror\u001b[0;34m(self, message)\u001b[0m\n\u001b[1;32m   2361\u001b[0m         \"\"\"\n\u001b[1;32m   2362\u001b[0m         \u001b[0mself\u001b[0m\u001b[0;34m.\u001b[0m\u001b[0mprint_usage\u001b[0m\u001b[0;34m(\u001b[0m\u001b[0m_sys\u001b[0m\u001b[0;34m.\u001b[0m\u001b[0mstderr\u001b[0m\u001b[0;34m)\u001b[0m\u001b[0;34m\u001b[0m\u001b[0m\n\u001b[0;32m-> 2363\u001b[0;31m         \u001b[0mself\u001b[0m\u001b[0;34m.\u001b[0m\u001b[0mexit\u001b[0m\u001b[0;34m(\u001b[0m\u001b[0;36m2\u001b[0m\u001b[0;34m,\u001b[0m \u001b[0m_\u001b[0m\u001b[0;34m(\u001b[0m\u001b[0;34m'%s: error: %s\\n'\u001b[0m\u001b[0;34m)\u001b[0m \u001b[0;34m%\u001b[0m \u001b[0;34m(\u001b[0m\u001b[0mself\u001b[0m\u001b[0;34m.\u001b[0m\u001b[0mprog\u001b[0m\u001b[0;34m,\u001b[0m \u001b[0mmessage\u001b[0m\u001b[0;34m)\u001b[0m\u001b[0;34m)\u001b[0m\u001b[0;34m\u001b[0m\u001b[0m\n\u001b[0m",
        "\u001b[0;32m/usr/lib/python2.7/argparse.pyc\u001b[0m in \u001b[0;36mexit\u001b[0;34m(self, status, message)\u001b[0m\n\u001b[1;32m   2349\u001b[0m         \u001b[0;32mif\u001b[0m \u001b[0mmessage\u001b[0m\u001b[0;34m:\u001b[0m\u001b[0;34m\u001b[0m\u001b[0m\n\u001b[1;32m   2350\u001b[0m             \u001b[0mself\u001b[0m\u001b[0;34m.\u001b[0m\u001b[0m_print_message\u001b[0m\u001b[0;34m(\u001b[0m\u001b[0mmessage\u001b[0m\u001b[0;34m,\u001b[0m \u001b[0m_sys\u001b[0m\u001b[0;34m.\u001b[0m\u001b[0mstderr\u001b[0m\u001b[0;34m)\u001b[0m\u001b[0;34m\u001b[0m\u001b[0m\n\u001b[0;32m-> 2351\u001b[0;31m         \u001b[0m_sys\u001b[0m\u001b[0;34m.\u001b[0m\u001b[0mexit\u001b[0m\u001b[0;34m(\u001b[0m\u001b[0mstatus\u001b[0m\u001b[0;34m)\u001b[0m\u001b[0;34m\u001b[0m\u001b[0m\n\u001b[0m\u001b[1;32m   2352\u001b[0m \u001b[0;34m\u001b[0m\u001b[0m\n\u001b[1;32m   2353\u001b[0m     \u001b[0;32mdef\u001b[0m \u001b[0merror\u001b[0m\u001b[0;34m(\u001b[0m\u001b[0mself\u001b[0m\u001b[0;34m,\u001b[0m \u001b[0mmessage\u001b[0m\u001b[0;34m)\u001b[0m\u001b[0;34m:\u001b[0m\u001b[0;34m\u001b[0m\u001b[0m\n",
        "\u001b[0;31mSystemExit\u001b[0m: 2"
       ]
      }
     ],
     "prompt_number": 2
    },
    {
     "cell_type": "code",
     "collapsed": false,
     "input": [
      "ls"
     ],
     "language": "python",
     "metadata": {},
     "outputs": [
      {
       "output_type": "stream",
       "stream": "stdout",
       "text": [
        "\u001b[0m\u001b[01;34mdata\u001b[0m/  ge_buffer.h5  generic_demo.py  olfactory_LPU.ipynb  olfactory_output_spike.h5  olfactory_receptor_demo.py\r\n"
       ]
      }
     ],
     "prompt_number": 3
    },
    {
     "cell_type": "code",
     "collapsed": false,
     "input": [
      "a = [0,0]"
     ],
     "language": "python",
     "metadata": {},
     "outputs": [],
     "prompt_number": 4
    },
    {
     "cell_type": "code",
     "collapsed": false,
     "input": [],
     "language": "python",
     "metadata": {},
     "outputs": []
    }
   ],
   "metadata": {}
  }
 ]
}