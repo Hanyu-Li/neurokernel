{
 "metadata": {
  "name": ""
 },
 "nbformat": 3,
 "nbformat_minor": 0,
 "worksheets": [
  {
   "cells": [
    {
     "cell_type": "code",
     "collapsed": false,
     "input": [
      "%pylab inline\n",
      "import h5py"
     ],
     "language": "python",
     "metadata": {},
     "outputs": [
      {
       "output_type": "stream",
       "stream": "stdout",
       "text": [
        "Populating the interactive namespace from numpy and matplotlib\n"
       ]
      }
     ],
     "prompt_number": 1
    },
    {
     "cell_type": "code",
     "collapsed": false,
     "input": [
      "%run Olfactory_receptor_demo.py -s 2500"
     ],
     "language": "python",
     "metadata": {},
     "outputs": []
    },
    {
     "cell_type": "code",
     "collapsed": false,
     "input": [
      "f = h5py.File('olfactory_output_gpot.h5','r')\n",
      "data = f['array']\n",
      "V = data.value\n",
      "\n",
      "f_in = h5py.File('ge_I_Olfactory_receptor3.h5','r')\n",
      "data_in = f_in['array']\n",
      "Ostim = data_in.value\n"
     ],
     "language": "python",
     "metadata": {},
     "outputs": [],
     "prompt_number": 2
    },
    {
     "cell_type": "code",
     "collapsed": false,
     "input": [
      "plot(V[:,:])\n",
      "ylabel(\"V\")"
     ],
     "language": "python",
     "metadata": {},
     "outputs": [],
     "prompt_number": "*"
    },
    {
     "cell_type": "code",
     "collapsed": false,
     "input": [
      "#find spikes post-run\n",
      "\n",
      "spk = zeros(V.shape)\n",
      "for i in range(V.shape[0]):\n",
      "    for j in range(V.shape[1]):\n",
      "        if i ==0 or i==V.shape[0]-1:\n",
      "            continue\n",
      "        else:\n",
      "            if V[i-1][j] <= V[i][j] and V[i+1][j] <= V[i][j]:\n",
      "                spk[i][j] = 1\n",
      "                "
     ],
     "language": "python",
     "metadata": {},
     "outputs": [],
     "prompt_number": 3
    },
    {
     "cell_type": "code",
     "collapsed": false,
     "input": [
      "spk"
     ],
     "language": "python",
     "metadata": {},
     "outputs": [
      {
       "metadata": {},
       "output_type": "pyout",
       "prompt_number": 36,
       "text": [
        "array([[ 0.,  0.,  0., ...,  0.,  0.,  0.],\n",
        "       [ 0.,  0.,  0., ...,  0.,  0.,  0.],\n",
        "       [ 0.,  0.,  0., ...,  0.,  0.,  0.],\n",
        "       ..., \n",
        "       [ 0.,  0.,  0., ...,  0.,  0.,  0.],\n",
        "       [ 0.,  0.,  0., ...,  0.,  0.,  0.],\n",
        "       [ 0.,  0.,  0., ...,  0.,  0.,  0.]])"
       ]
      }
     ],
     "prompt_number": 36
    },
    {
     "cell_type": "code",
     "collapsed": false,
     "input": [
      "#PSTH Analysis\n",
      "bin_size = 2e3\n",
      "step_size = bin_size/4\n",
      "psth = np.zeros((spk.shape[0]/step_size, spk.shape[1]))\n",
      "for i in range(psth.shape[0]):\n",
      "    start = i*step_size\n",
      "    end = start + bin_size\n",
      "    \n",
      "    for j in range(psth.shape[1]):\n",
      "        psth[i,j] = find(spk[start:end,j]).size *1e4/bin_size\n",
      "        \n"
     ],
     "language": "python",
     "metadata": {},
     "outputs": [],
     "prompt_number": 4
    },
    {
     "cell_type": "code",
     "collapsed": false,
     "input": [
      "ind = 1\n",
      "figure\n",
      "subplot(3,1,1)\n",
      "plot(Ostim[:,ind])\n",
      "ylabel(\"Ostim\")\n",
      "subplot(3,1,2)\n",
      "plot(V[:,ind])\n",
      "ylabel(\"V\")\n",
      "subplot(3,1,3)\n",
      "plot(psth[:,ind])\n",
      "ylabel(\"PSTH,Hz\")\n",
      "ylim([70,110])"
     ],
     "language": "python",
     "metadata": {},
     "outputs": [
      {
       "metadata": {},
       "output_type": "pyout",
       "prompt_number": 6,
       "text": [
        "(70, 110)"
       ]
      },
      {
       "metadata": {},
       "output_type": "display_data",
       "png": "[encoded data removed]",
       "text": [
        "<matplotlib.figure.Figure at 0x7f9838a4e790>"
       ]
      }
     ],
     "prompt_number": 6
    },
    {
     "cell_type": "code",
     "collapsed": false,
     "input": [],
     "language": "python",
     "metadata": {},
     "outputs": []
    }
   ],
   "metadata": {}
  }
 ]
}