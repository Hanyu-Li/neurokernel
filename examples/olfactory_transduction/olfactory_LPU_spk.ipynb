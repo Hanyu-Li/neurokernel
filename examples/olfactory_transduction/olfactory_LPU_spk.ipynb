{
 "metadata": {
  "name": ""
 },
 "nbformat": 3,
 "nbformat_minor": 0,
 "worksheets": [
  {
   "cells": [
    {
     "cell_type": "code",
     "collapsed": false,
     "input": [
      "%pylab inline\n",
      "import h5py"
     ],
     "language": "python",
     "metadata": {},
     "outputs": [],
     "prompt_number": "*"
    },
    {
     "cell_type": "code",
     "collapsed": false,
     "input": [
      "%run Olfactory_receptor_demo.py"
     ],
     "language": "python",
     "metadata": {},
     "outputs": [],
     "prompt_number": 37
    },
    {
     "cell_type": "code",
     "collapsed": false,
     "input": [
      "f = h5py.File('olfactory_output_spike.h5','r')\n",
      "data = f['array']\n",
      "spk = data.value\n",
      "h5py.File.close(f)\n",
      "f_in = h5py.File('olf_I_Olfactory_receptor17.h5','r')\n",
      "data_in = f_in['array']\n",
      "Ostim = data_in.value\n",
      "h5py.File.close(f_in)"
     ],
     "language": "python",
     "metadata": {},
     "outputs": [],
     "prompt_number": 38
    },
    {
     "cell_type": "code",
     "collapsed": false,
     "input": [
      "plot(spk[:,0])\n",
      "ylabel(\"spk\")\n",
      "show()\n",
      "plot(Ostim[:,0])\n",
      "show()"
     ],
     "language": "python",
     "metadata": {},
     "outputs": [
      {
       "metadata": {},
       "output_type": "display_data",
       "png": "[encoded data removed]",
       "text": [
        "<matplotlib.figure.Figure at 0x7f2d640a07d0>"
       ]
      },
      {
       "metadata": {},
       "output_type": "display_data",
       "png": "[encoded data removed]",
       "text": [
        "<matplotlib.figure.Figure at 0x7f2d5fec82d0>"
       ]
      }
     ],
     "prompt_number": 33
    },
    {
     "cell_type": "code",
     "collapsed": false,
     "input": [
      "#PSTH Analysis\n",
      "bin_size = 3e3\n",
      "step_size = bin_size/10\n",
      "psth = np.zeros((spk.shape[0]/step_size, spk.shape[1]))\n",
      "for i in range(psth.shape[0]):\n",
      "    start = i*step_size\n",
      "    end = start + bin_size\n",
      "    \n",
      "    for j in range(psth.shape[1]):\n",
      "        psth[i,j] = find(spk[start:end,j]).size *1e4/bin_size\n",
      "        "
     ],
     "language": "python",
     "metadata": {},
     "outputs": [],
     "prompt_number": 74
    },
    {
     "cell_type": "code",
     "collapsed": false,
     "input": [
      "spk0 = spk[:,0]\n",
      "t = np.arange(0,25,1e-4)\n",
      "frequency = np.zeros(size(t), np.float)\n",
      "spk_time = find(spk0)/10000.0\n",
      "first = True\n",
      "last = False\n",
      "curr = 0\n",
      "\n",
      "for i in range(250000):\n",
      "    if first:\n",
      "        frequency [i] = 1/(spk_time[curr] - 0)\n",
      "        if(spk0[i] == 1):\n",
      "            first = False\n",
      "            curr = curr + 1\n",
      "    else:\n",
      "        if not last:\n",
      "            frequency [i] = 1/(spk_time[curr] - spk_time[curr-1])\n",
      "        else:\n",
      "            frequency [i] = 1/(25 - spk_time[curr-1])\n",
      "        if(spk0[i] == 1 and not last):\n",
      "            \n",
      "            curr = curr + 1\n",
      "        if curr == size(spk_time)-1:\n",
      "            last = True    \n",
      "        \n",
      "\n",
      "print spk_time   \n",
      "print frequency\n",
      "'''    \n",
      "    if(spk0[i] == 1):\n",
      "        if first:\n",
      "            first = False\n",
      "            prev = t[i]\n",
      "            curr = t[i]\n",
      "            frequency[i] = 1/prev\n",
      "        else\n",
      "            curr = t[i]\n",
      "            frequency[i] = 1/(curr-prev)\n",
      "    else\n",
      "        frequency[i] = 1/(curr-prev)\n",
      "'''"
     ],
     "language": "python",
     "metadata": {},
     "outputs": [
      {
       "output_type": "stream",
       "stream": "stdout",
       "text": [
        "[  2.90000000e-03   1.77000000e-02   3.21000000e-02 ...,   2.49581000e+01\n",
        "   2.49722000e+01   2.49864000e+01]\n",
        "[ 344.82758621  344.82758621  344.82758621 ...,   35.97122302   35.97122302\n",
        "   35.97122302]\n"
       ]
      },
      {
       "metadata": {},
       "output_type": "pyout",
       "prompt_number": 70,
       "text": [
        "'    \\n    if(spk0[i] == 1):\\n        if first:\\n            first = False\\n            prev = t[i]\\n            curr = t[i]\\n            frequency[i] = 1/prev\\n        else\\n            curr = t[i]\\n            frequency[i] = 1/(curr-prev)\\n    else\\n        frequency[i] = 1/(curr-prev)\\n'"
       ]
      }
     ],
     "prompt_number": 70
    },
    {
     "cell_type": "code",
     "collapsed": false,
     "input": [
      "ind = 0\n",
      "figure(figsize=[10,10])\n",
      "subplot(3,1,1)\n",
      "plot(t, Ostim[:,ind])\n",
      "ylabel(\"Ostim\")\n",
      "\n",
      "subplot(3,1,2)\n",
      "stem(spk0)\n",
      "ylabel(\"Spike Train\")\n",
      "\n",
      "subplot(3,1,3)\n",
      "plot(t, frequency)\n",
      "ylim([65, 85])\n",
      "ylabel(\"Spike Rate, Hz\")\n",
      "'''\n",
      "subplot(3,1,3)\n",
      "plot(psth[:,ind])\n",
      "ylabel(\"PSTH,Hz\")\n",
      "ylim([65,85])\n",
      "'''"
     ],
     "language": "python",
     "metadata": {},
     "outputs": [],
     "prompt_number": "*"
    },
    {
     "cell_type": "code",
     "collapsed": false,
     "input": [
      "f = open('observe')\n",
      "data = f.read().splitlines()\n",
      "d=np.asarray(data)\n",
      "d?\n",
      "print d"
     ],
     "language": "python",
     "metadata": {},
     "outputs": [
      {
       "output_type": "stream",
       "stream": "stdout",
       "text": [
        "['-5.098794' '-3.627156' '-2.199098' ..., '-nan' '-nan' '-nan']\n"
       ]
      }
     ],
     "prompt_number": 20
    },
    {
     "cell_type": "code",
     "collapsed": false,
     "input": [
      "\n",
      "a = '%s/%d' % ('str', 10)\n",
      "print a"
     ],
     "language": "python",
     "metadata": {},
     "outputs": [
      {
       "output_type": "stream",
       "stream": "stdout",
       "text": [
        "str/10\n"
       ]
      }
     ],
     "prompt_number": 14
    },
    {
     "cell_type": "code",
     "collapsed": false,
     "input": [
      "import scipy.io as sio\n",
      "%pylab inline"
     ],
     "language": "python",
     "metadata": {},
     "outputs": [
      {
       "output_type": "stream",
       "stream": "stdout",
       "text": [
        "Populating the interactive namespace from numpy and matplotlib\n"
       ]
      },
      {
       "output_type": "stream",
       "stream": "stderr",
       "text": [
        "WARNING: pylab import has clobbered these variables: ['mat']\n",
        "`%pylab --no-import-all` prevents importing * from pylab and numpy\n"
       ]
      }
     ],
     "prompt_number": 6
    },
    {
     "cell_type": "code",
     "collapsed": false,
     "input": [
      "mat = sio.loadmat('./data/m/2011_03_09_0005.mat')\n",
      "wav = mat['c']\n",
      "plot(wav)"
     ],
     "language": "python",
     "metadata": {},
     "outputs": [
      {
       "metadata": {},
       "output_type": "pyout",
       "prompt_number": 14,
       "text": [
        "[<matplotlib.lines.Line2D at 0x7f37382f8a50>]"
       ]
      },
      {
       "metadata": {},
       "output_type": "display_data",
       "png": "[encoded data removed]",
       "text": [
        "<matplotlib.figure.Figure at 0x7f37383bbc50>"
       ]
      }
     ],
     "prompt_number": 14
    }
   ],
   "metadata": {}
  }
 ]
}